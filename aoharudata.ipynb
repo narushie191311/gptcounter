{
  "nbformat": 4,
  "nbformat_minor": 0,
  "metadata": {
    "colab": {
      "provenance": [],
      "authorship_tag": "ABX9TyPGZ6arIuQM0lm6N0RYOOIW",
      "include_colab_link": true
    },
    "kernelspec": {
      "name": "python3",
      "display_name": "Python 3"
    },
    "language_info": {
      "name": "python"
    }
  },
  "cells": [
    {
      "cell_type": "markdown",
      "metadata": {
        "id": "view-in-github",
        "colab_type": "text"
      },
      "source": [
        "<a href=\"https://colab.research.google.com/github/narushie191311/gptcounter/blob/main/aoharudata.ipynb\" target=\"_parent\"><img src=\"https://colab.research.google.com/assets/colab-badge.svg\" alt=\"Open In Colab\"/></a>"
      ]
    },
    {
      "cell_type": "code",
      "execution_count": 1,
      "metadata": {
        "colab": {
          "base_uri": "https://localhost:8080/"
        },
        "id": "THpOuKW25cAY",
        "outputId": "784cf94b-2da7-4f67-d58f-6847f3b11357"
      },
      "outputs": [
        {
          "output_type": "stream",
          "name": "stdout",
          "text": [
            "Mounted at /content/drive\n"
          ]
        }
      ],
      "source": [
        "from google.colab import drive\n",
        "drive.mount('/content/drive')"
      ]
    },
    {
      "cell_type": "code",
      "source": [
        "!git clone https://github.com/narushie191311/gptcounter.git /content/drive/MyDrive/gptcounter"
      ],
      "metadata": {
        "colab": {
          "base_uri": "https://localhost:8080/"
        },
        "id": "OnuvXrGh5kTh",
        "outputId": "991298e0-d22e-452f-a4d1-d287dc60fc28"
      },
      "execution_count": 2,
      "outputs": [
        {
          "output_type": "stream",
          "name": "stdout",
          "text": [
            "Cloning into '/content/drive/MyDrive/gptcounter'...\n",
            "remote: Enumerating objects: 199, done.\u001b[K\n",
            "remote: Counting objects: 100% (199/199), done.\u001b[K\n",
            "remote: Compressing objects: 100% (137/137), done.\u001b[K\n",
            "remote: Total 199 (delta 117), reused 140 (delta 58), pack-reused 0 (from 0)\u001b[K\n",
            "Receiving objects: 100% (199/199), 17.50 MiB | 5.90 MiB/s, done.\n",
            "Resolving deltas: 100% (117/117), done.\n",
            "Updating files: 100% (45/45), done.\n"
          ]
        }
      ]
    },
    {
      "cell_type": "code",
      "source": [
        "!bash scripts/colab_quick_start.sh"
      ],
      "metadata": {
        "id": "FvWLpOaL5ngx"
      },
      "execution_count": null,
      "outputs": []
    },
    {
      "cell_type": "code",
      "source": [
        "!pip install -q GPUtil psutil"
      ],
      "metadata": {
        "id": "lzhZ6QaQ5uHV"
      },
      "execution_count": null,
      "outputs": []
    },
    {
      "cell_type": "code",
      "source": [
        "VIDEO = '/content/drive/MyDrive/aoharudata/merged_20250816_1141-1951.mkv\n",
        "# mVIDEO = '/content/drive/MyDrive/aoharudata/erged_20250817_1145-1933.mkv"
      ],
      "metadata": {
        "colab": {
          "base_uri": "https://localhost:8080/",
          "height": 106
        },
        "id": "LqS882EZ6WqC",
        "outputId": "a8b1eecb-7b67-4711-e0a7-16319f3c22a1"
      },
      "execution_count": 3,
      "outputs": [
        {
          "output_type": "error",
          "ename": "SyntaxError",
          "evalue": "unterminated string literal (detected at line 1) (ipython-input-1022436964.py, line 1)",
          "traceback": [
            "\u001b[0;36m  File \u001b[0;32m\"/tmp/ipython-input-1022436964.py\"\u001b[0;36m, line \u001b[0;32m1\u001b[0m\n\u001b[0;31m    VIDEO = '/content/drive/MyDrive/aoharudata/merged_20250816_1141-1951.mkv\u001b[0m\n\u001b[0m            ^\u001b[0m\n\u001b[0;31mSyntaxError\u001b[0m\u001b[0;31m:\u001b[0m unterminated string literal (detected at line 1)\n"
          ]
        }
      ]
    },
    {
      "cell_type": "code",
      "source": [
        "!python scripts/parallel_shard.py \\\n",
        "  --video \"$VIDEO\" \\\n",
        "  --shards 0 \\\n",
        "  --target-wall-min 30 \\\n",
        "  --base-output outputs/analysis_parallel.csv \\\n",
        "  --extra-args \"--device cuda --tracker bytetrack --det-size 896x896 --detect-every-n 2 --conf 0.6 --body-conf 0.5 --no-show --log-every-sec 10 --checkpoint-every-sec 20 --flush-every-n 10 --no-merge --merge-every-sec 0\" | cat"
      ],
      "metadata": {
        "id": "2PzFZZYo52lU"
      },
      "execution_count": null,
      "outputs": []
    }
  ]
}