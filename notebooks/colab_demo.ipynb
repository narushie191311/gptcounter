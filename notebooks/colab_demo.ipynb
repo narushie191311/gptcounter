{
  "cells": [
    {
      "cell_type": "code",
      "execution_count": null,
      "metadata": {
        "vscode": {
          "languageId": "plaintext"
        }
      },
      "outputs": [],
      "source": [
        "# gptcounter Colab デモ\n",
        "GPU (A100) を利用して動画を1分解析し、CSV/動画/サマリを出力します。\n"
      ]
    },
    {
      "cell_type": "code",
      "execution_count": null,
      "metadata": {},
      "outputs": [],
      "source": [
        "!nvidia-smi || true\n",
        "!bash scripts/setup_colab.sh\n"
      ]
    },
    {
      "cell_type": "code",
      "execution_count": null,
      "metadata": {},
      "outputs": [],
      "source": [
        "VIDEO = '/content/merged_20250816_1141-1951.mkv'  # 例: ドライブに置く\n",
        "OUT   = 'outputs/analysis_colab.csv'\n",
        "!python scripts/analyze_video_mac.py --video \"$VIDEO\" --start-sec 1800 --duration-sec 60 \\\n",
        "  --output-csv \"$OUT\" --video-out outputs/analysis_colab.mp4 --save-video --no-show \\\n",
        "  --reid-cos 0.6 --gate-iou 0.25 --gate-sim 0.45 --det-size 1024x1024 \\\n",
        "  --body-conf 0.5 --w-face 0.7 --w-body 0.3 --detect-every-n 1 --device cuda | cat\n"
      ]
    },
    {
      "cell_type": "code",
      "execution_count": null,
      "metadata": {},
      "outputs": [],
      "source": [
        "!python scripts/person_summary.py --input-csv outputs/analysis_colab.csv \\\n",
        "  --video \"$VIDEO\" --output-csv outputs/person_summary_colab.csv \\\n",
        "  --cluster-from person --emb-thresh 0.55 --overlap-veto-sec 0.6 \\\n",
        "  --merge-max-dist-px 80 --stats-out outputs/person_stats_colab.csv | cat\n",
        "import pandas as pd\n",
        "summary=pd.read_csv('outputs/person_summary_colab.csv')\n",
        "print('unique=', len(summary))\n",
        "summary.head()\n"
      ]
    }
  ],
  "metadata": {
    "language_info": {
      "name": "python"
    }
  },
  "nbformat": 4,
  "nbformat_minor": 2
}
